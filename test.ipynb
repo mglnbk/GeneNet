{
 "cells": [
  {
   "cell_type": "code",
   "execution_count": 2,
   "metadata": {
    "collapsed": true
   },
   "outputs": [],
   "source": [
    "import pandas as pd\n",
    "from data.pathways.reactome import Reactome, ReactomeNetwork\n"
   ]
  },
  {
   "cell_type": "code",
   "execution_count": 3,
   "outputs": [],
   "source": [
    "r = Reactome()"
   ],
   "metadata": {
    "collapsed": false,
    "pycharm": {
     "name": "#%%\n"
    }
   }
  },
  {
   "cell_type": "code",
   "execution_count": 6,
   "outputs": [
    {
     "data": {
      "text/plain": "              child         parent\n0      R-BTA-109581  R-BTA-5357769\n1      R-BTA-109581    R-BTA-75153\n2      R-BTA-109582   R-BTA-140877\n3      R-BTA-109582   R-BTA-202733\n4      R-BTA-109582   R-BTA-418346\n...             ...            ...\n20662  R-XTR-983169   R-XTR-983168\n20663  R-XTR-983169   R-XTR-983170\n20664  R-XTR-983705  R-XTR-1168372\n20665  R-XTR-983712  R-XTR-2672351\n20666  R-XTR-983712   R-XTR-936837\n\n[20667 rows x 2 columns]",
      "text/html": "<div>\n<style scoped>\n    .dataframe tbody tr th:only-of-type {\n        vertical-align: middle;\n    }\n\n    .dataframe tbody tr th {\n        vertical-align: top;\n    }\n\n    .dataframe thead th {\n        text-align: right;\n    }\n</style>\n<table border=\"1\" class=\"dataframe\">\n  <thead>\n    <tr style=\"text-align: right;\">\n      <th></th>\n      <th>child</th>\n      <th>parent</th>\n    </tr>\n  </thead>\n  <tbody>\n    <tr>\n      <th>0</th>\n      <td>R-BTA-109581</td>\n      <td>R-BTA-5357769</td>\n    </tr>\n    <tr>\n      <th>1</th>\n      <td>R-BTA-109581</td>\n      <td>R-BTA-75153</td>\n    </tr>\n    <tr>\n      <th>2</th>\n      <td>R-BTA-109582</td>\n      <td>R-BTA-140877</td>\n    </tr>\n    <tr>\n      <th>3</th>\n      <td>R-BTA-109582</td>\n      <td>R-BTA-202733</td>\n    </tr>\n    <tr>\n      <th>4</th>\n      <td>R-BTA-109582</td>\n      <td>R-BTA-418346</td>\n    </tr>\n    <tr>\n      <th>...</th>\n      <td>...</td>\n      <td>...</td>\n    </tr>\n    <tr>\n      <th>20662</th>\n      <td>R-XTR-983169</td>\n      <td>R-XTR-983168</td>\n    </tr>\n    <tr>\n      <th>20663</th>\n      <td>R-XTR-983169</td>\n      <td>R-XTR-983170</td>\n    </tr>\n    <tr>\n      <th>20664</th>\n      <td>R-XTR-983705</td>\n      <td>R-XTR-1168372</td>\n    </tr>\n    <tr>\n      <th>20665</th>\n      <td>R-XTR-983712</td>\n      <td>R-XTR-2672351</td>\n    </tr>\n    <tr>\n      <th>20666</th>\n      <td>R-XTR-983712</td>\n      <td>R-XTR-936837</td>\n    </tr>\n  </tbody>\n</table>\n<p>20667 rows × 2 columns</p>\n</div>"
     },
     "execution_count": 6,
     "metadata": {},
     "output_type": "execute_result"
    }
   ],
   "source": [
    "r.load_hierarchy()"
   ],
   "metadata": {
    "collapsed": false,
    "pycharm": {
     "name": "#%%\n"
    }
   }
  }
 ],
 "metadata": {
  "kernelspec": {
   "display_name": "Python 3",
   "language": "python",
   "name": "python3"
  },
  "language_info": {
   "codemirror_mode": {
    "name": "ipython",
    "version": 2
   },
   "file_extension": ".py",
   "mimetype": "text/x-python",
   "name": "python",
   "nbconvert_exporter": "python",
   "pygments_lexer": "ipython2",
   "version": "2.7.6"
  }
 },
 "nbformat": 4,
 "nbformat_minor": 0
}