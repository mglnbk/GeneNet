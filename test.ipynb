{
 "cells": [
  {
   "cell_type": "code",
   "execution_count": 1,
   "metadata": {
    "collapsed": true,
    "pycharm": {
     "name": "#%%\n"
    }
   },
   "outputs": [
    {
     "ename": "ModuleNotFoundError",
     "evalue": "No module named 'torch'",
     "output_type": "error",
     "traceback": [
      "\u001b[0;31m---------------------------------------------------------------------------\u001b[0m",
      "\u001b[0;31mModuleNotFoundError\u001b[0m                       Traceback (most recent call last)",
      "\u001b[1;32m/Users/sunzehui/Library/CloudStorage/OneDrive-zju.edu.cn/GeneNet/test.ipynb Cell 1\u001b[0m in \u001b[0;36m<cell line: 1>\u001b[0;34m()\u001b[0m\n\u001b[0;32m----> <a href='vscode-notebook-cell:/Users/sunzehui/Library/CloudStorage/OneDrive-zju.edu.cn/GeneNet/test.ipynb#W0sZmlsZQ%3D%3D?line=0'>1</a>\u001b[0m \u001b[39mimport\u001b[39;00m \u001b[39mtorch\u001b[39;00m\n\u001b[1;32m      <a href='vscode-notebook-cell:/Users/sunzehui/Library/CloudStorage/OneDrive-zju.edu.cn/GeneNet/test.ipynb#W0sZmlsZQ%3D%3D?line=1'>2</a>\u001b[0m \u001b[39mimport\u001b[39;00m \u001b[39mitertools\u001b[39;00m\n\u001b[1;32m      <a href='vscode-notebook-cell:/Users/sunzehui/Library/CloudStorage/OneDrive-zju.edu.cn/GeneNet/test.ipynb#W0sZmlsZQ%3D%3D?line=2'>3</a>\u001b[0m \u001b[39mfrom\u001b[39;00m \u001b[39mdata\u001b[39;00m\u001b[39m.\u001b[39;00m\u001b[39mpathways\u001b[39;00m\u001b[39m.\u001b[39;00m\u001b[39mreactome\u001b[39;00m \u001b[39mimport\u001b[39;00m Reactome, ReactomeNetwork\n",
      "\u001b[0;31mModuleNotFoundError\u001b[0m: No module named 'torch'"
     ]
    }
   ],
   "source": [
    "import torch\n",
    "import itertools\n",
    "from data.pathways.reactome import Reactome, ReactomeNetwork\n",
    "import pandas as pd\n",
    "import numpy as np\n",
    "\n",
    "\n",
    "def get_map_from_layer(layer_dict):\n",
    "  \"\"\"\n",
    "  :param: layer_dict: dictionary of connections (e.g {'pathway1': ['g1', 'g2', 'g3']}\n",
    "  :return: dataframe map of layer (index = genes, columns = pathways, values = 1 if connected; 0 else)\n",
    "  \"\"\"\n",
    "  pathways = layer_dict.keys()\n",
    "  genes = list(itertools.chain.from_iterable(layer_dict.values()))\n",
    "  genes = list(np.unique(genes))\n",
    "  df = pd.DataFrame(index=pathways, columns=genes)\n",
    "  for k, v in layer_dict.items():\n",
    "    df.loc[k, v] = 1\n",
    "  df = df.fillna(0)\n",
    "  return df.T\n",
    "\n",
    "\n",
    "def initLayers(layer):\n",
    "  mapp = get_map_from_layer(layer)\n",
    "  return torch.Tensor(mapp.to_numpy())\n",
    "\n",
    "\n",
    "class SpareLayer(torch.nn.Module):\n",
    "  def __init__(self, layer):\n",
    "    super().__init__()\n",
    "    self.layer = layer\n",
    "    self.weight = torch.nn.Parameter(initLayers(self.layer), requires_grad=False)\n",
    "\n",
    "  def forward(self, Input):\n",
    "    return Input @ self.weight\n",
    "\n",
    "  def getWeight(self):\n",
    "    return self.weight\n",
    "\n",
    "\n",
    "net = ReactomeNetwork()\n",
    "layers = net.get_layers(n_levels=3)\n",
    "print(len(layers))\n",
    "sparseLayers = []\n",
    "for i, layer in enumerate(layers[::-1]):\n",
    "  sparseLayers += [SpareLayer(layer)]"
   ]
  },
  {
   "cell_type": "code",
   "execution_count": 41,
   "metadata": {
    "collapsed": false,
    "pycharm": {
     "name": "#%%\n"
    }
   },
   "outputs": [
    {
     "name": "stdout",
     "output_type": "stream",
     "text": [
      "Parameter containing:\n",
      "tensor([[0., 0., 0.,  ..., 0., 0., 0.],\n",
      "        [0., 0., 0.,  ..., 0., 0., 0.],\n",
      "        [0., 0., 0.,  ..., 0., 0., 0.],\n",
      "        ...,\n",
      "        [0., 0., 0.,  ..., 0., 0., 0.],\n",
      "        [0., 0., 0.,  ..., 0., 0., 0.],\n",
      "        [0., 0., 0.,  ..., 0., 0., 0.]])\n"
     ]
    }
   ],
   "source": [
    "print(sparseLayers[1].getWeight())"
   ]
  },
  {
   "cell_type": "code",
   "execution_count": 37,
   "metadata": {
    "collapsed": false,
    "pycharm": {
     "name": "#%%\n"
    }
   },
   "outputs": [],
   "source": [
    "x = torch.randn(size=(1,488), requires_grad=True)"
   ]
  },
  {
   "cell_type": "code",
   "execution_count": 44,
   "metadata": {
    "collapsed": false,
    "pycharm": {
     "name": "#%%\n"
    }
   },
   "outputs": [
    {
     "name": "stdout",
     "output_type": "stream",
     "text": [
      "SpareLayer()\n"
     ]
    }
   ],
   "source": [
    "print(sparseLayers[1])"
   ]
  },
  {
   "cell_type": "code",
   "execution_count": 42,
   "metadata": {
    "collapsed": false,
    "pycharm": {
     "name": "#%%\n"
    }
   },
   "outputs": [
    {
     "ename": "TypeError",
     "evalue": "'type' object is not subscriptable",
     "output_type": "error",
     "traceback": [
      "\u001b[1;31m---------------------------------------------------------------------------\u001b[0m",
      "\u001b[1;31mTypeError\u001b[0m                                 Traceback (most recent call last)",
      "\u001b[1;32m~\\AppData\\Local\\Temp/ipykernel_19648/1959163708.py\u001b[0m in \u001b[0;36m<module>\u001b[1;34m\u001b[0m\n\u001b[1;32m----> 1\u001b[1;33m \u001b[0mprint\u001b[0m\u001b[1;33m(\u001b[0m\u001b[0mSpareLayer\u001b[0m\u001b[1;33m[\u001b[0m\u001b[1;36m1\u001b[0m\u001b[1;33m]\u001b[0m\u001b[1;33m(\u001b[0m\u001b[0mx\u001b[0m\u001b[1;33m)\u001b[0m\u001b[1;33m)\u001b[0m\u001b[1;33m\u001b[0m\u001b[1;33m\u001b[0m\u001b[0m\n\u001b[0m",
      "\u001b[1;31mTypeError\u001b[0m: 'type' object is not subscriptable"
     ]
    }
   ],
   "source": [
    "print(SpareLayer[1](x))"
   ]
  },
  {
   "cell_type": "code",
   "execution_count": 46,
   "metadata": {
    "collapsed": false,
    "pycharm": {
     "name": "#%%\n"
    }
   },
   "outputs": [
    {
     "data": {
      "text/plain": [
       "torch.sparse_coo"
      ]
     },
     "execution_count": 46,
     "metadata": {},
     "output_type": "execute_result"
    }
   ],
   "source": [
    "torch.sparse_coo"
   ]
  }
 ],
 "metadata": {
  "kernelspec": {
   "display_name": "Python 3.10.5 ('jupyter')",
   "language": "python",
   "name": "python3"
  },
  "language_info": {
   "codemirror_mode": {
    "name": "ipython",
    "version": 3
   },
   "file_extension": ".py",
   "mimetype": "text/x-python",
   "name": "python",
   "nbconvert_exporter": "python",
   "pygments_lexer": "ipython3",
   "version": "3.10.5"
  },
  "vscode": {
   "interpreter": {
    "hash": "aea36c614bc56ddbab42dbac018ff5b1044cdfc1bc7940519f02fc54b52e9d2c"
   }
  }
 },
 "nbformat": 4,
 "nbformat_minor": 0
}
